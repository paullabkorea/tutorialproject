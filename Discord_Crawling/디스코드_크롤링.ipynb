{
  "nbformat": 4,
  "nbformat_minor": 0,
  "metadata": {
    "colab": {
      "name": "디스코드_크롤링.ipynb",
      "provenance": [],
      "collapsed_sections": []
    },
    "kernelspec": {
      "name": "python3",
      "display_name": "Python 3"
    },
    "language_info": {
      "name": "python"
    }
  },
  "cells": [
    {
      "cell_type": "code",
      "metadata": {
        "id": "F3PLz6GQmadE"
      },
      "source": [
        "import requests\n",
        "from bs4 import BeautifulSoup\n",
        "\n",
        "response = requests.get(\"http://paullab.synology.me/stock.html\")\n",
        "\n",
        "response.encoding = 'utf-8'\n",
        "html = response.text\n",
        "\n",
        "soup = BeautifulSoup(html, 'html.parser')"
      ],
      "execution_count": 1,
      "outputs": []
    },
    {
      "cell_type": "code",
      "metadata": {
        "colab": {
          "base_uri": "https://localhost:8080/",
          "height": 34
        },
        "id": "v5ZXRqnxm1t1",
        "outputId": "6210a081-e033-4c71-a0b6-cb5035c3a416"
      },
      "source": [
        "soup.select('#update')[0].text"
      ],
      "execution_count": 2,
      "outputs": [
        {
          "output_type": "execute_result",
          "data": {
            "application/vnd.google.colaboratory.intrinsic+json": {
              "type": "string"
            },
            "text/plain": [
              "'update : 20.12.30'"
            ]
          },
          "metadata": {
            "tags": []
          },
          "execution_count": 2
        }
      ]
    },
    {
      "cell_type": "code",
      "metadata": {
        "colab": {
          "base_uri": "https://localhost:8080/"
        },
        "id": "ZEDc7cF6erVa",
        "outputId": "320c8d3d-81c2-4752-d9ed-19d3d377b00c"
      },
      "source": [
        "메인정보 = soup.select('.main')[1]\n",
        "메인정보.select('td')"
      ],
      "execution_count": 3,
      "outputs": [
        {
          "output_type": "execute_result",
          "data": {
            "text/plain": [
              "[<td class=\"strong\"><em id=\"_market_sum\">349조 2,323</em>억원</td>,\n",
              " <td>위니브월드 <em id=\"_market_sum\">1</em>위</td>,\n",
              " <td><em id=\"_market_sum\">5,969,782,550</em></td>,\n",
              " <td class=\"strong\"><em id=\"_market_sum\">349조 2,323</em>억원</td>,\n",
              " <td>\n",
              " <em>62,800</em>\n",
              " <span class=\"bar\">l</span>\n",
              " <em>42,300</em>\n",
              " </td>,\n",
              " <td>\n",
              " <em id=\"_dvr\">2.42</em>%\n",
              "                 </td>,\n",
              " <td class=\"strong\">22,125,034,978,750원</td>,\n",
              " <td>19,223,803,154,781원</td>,\n",
              " <td><em id=\"_market_sum\">2,901,231,823,969원</em></td>]"
            ]
          },
          "metadata": {
            "tags": []
          },
          "execution_count": 3
        }
      ]
    },
    {
      "cell_type": "code",
      "metadata": {
        "colab": {
          "base_uri": "https://localhost:8080/",
          "height": 34
        },
        "id": "l5VpwmlYfbND",
        "outputId": "5bfe9697-916b-4f3b-f743-a53d9d8c524a"
      },
      "source": [
        "메인정보.select('td')[0].text"
      ],
      "execution_count": 4,
      "outputs": [
        {
          "output_type": "execute_result",
          "data": {
            "application/vnd.google.colaboratory.intrinsic+json": {
              "type": "string"
            },
            "text/plain": [
              "'349조 2,323억원'"
            ]
          },
          "metadata": {
            "tags": []
          },
          "execution_count": 4
        }
      ]
    },
    {
      "cell_type": "code",
      "metadata": {
        "colab": {
          "base_uri": "https://localhost:8080/",
          "height": 34
        },
        "id": "pSMVjxFKfYI_",
        "outputId": "59ba33af-7447-4b73-c67e-e2a12d1d0584"
      },
      "source": [
        "메인정보.select('td')[1].text"
      ],
      "execution_count": 5,
      "outputs": [
        {
          "output_type": "execute_result",
          "data": {
            "application/vnd.google.colaboratory.intrinsic+json": {
              "type": "string"
            },
            "text/plain": [
              "'위니브월드 1위'"
            ]
          },
          "metadata": {
            "tags": []
          },
          "execution_count": 5
        }
      ]
    },
    {
      "cell_type": "code",
      "metadata": {
        "id": "8fGuDoEGnkFO",
        "colab": {
          "base_uri": "https://localhost:8080/"
        },
        "outputId": "8ef3889c-3bca-4dfd-9135-5a69cf44cab3"
      },
      "source": [
        "soup.select('.table > tbody > tr')[1]"
      ],
      "execution_count": 6,
      "outputs": [
        {
          "output_type": "execute_result",
          "data": {
            "text/plain": [
              "<tr>\n",
              "<td align=\"center \"><span class=\"date \">2019.10.23</span></td>\n",
              "<td class=\"num \"><span>6,650</span></td>\n",
              "<td class=\"num \">\n",
              "<img alt=\"상승 \" height=\"6 \" src=\"ico_up.gif \" style=\"margin-right:4px; \" width=\"7 \"/><span>\n",
              "                            20\n",
              "                        </span>\n",
              "</td>\n",
              "<td class=\"num \"><span>6,590</span></td>\n",
              "<td class=\"num \"><span>6,830</span></td>\n",
              "<td class=\"num \"><span>6,580</span></td>\n",
              "<td class=\"num \"><span>398,421</span></td>\n",
              "</tr>"
            ]
          },
          "metadata": {
            "tags": []
          },
          "execution_count": 6
        }
      ]
    },
    {
      "cell_type": "code",
      "metadata": {
        "id": "e6v69W8UoQa0"
      },
      "source": [
        "oneStep = soup.select('.main')[2]"
      ],
      "execution_count": 7,
      "outputs": []
    },
    {
      "cell_type": "code",
      "metadata": {
        "colab": {
          "base_uri": "https://localhost:8080/"
        },
        "id": "D9l2VgB7opKa",
        "outputId": "9585d7c1-e140-4dcb-8777-9aae57256083"
      },
      "source": [
        "oneStep.select('tbody > tr')"
      ],
      "execution_count": 8,
      "outputs": [
        {
          "output_type": "execute_result",
          "data": {
            "text/plain": [
              "[<tr>\n",
              " <th scope=\"col\">날짜</th>\n",
              " <th scope=\"col\">종가</th>\n",
              " <th scope=\"col\">전일비</th>\n",
              " <th scope=\"col\">시가</th>\n",
              " <th scope=\"col\">고가</th>\n",
              " <th scope=\"col\">저가</th>\n",
              " <th scope=\"col\">거래량</th>\n",
              " </tr>, <tr>\n",
              " <td align=\"center \"><span class=\"date \">2019.10.23</span></td>\n",
              " <td class=\"num \"><span>6,650</span></td>\n",
              " <td class=\"num \">\n",
              " <img alt=\"상승 \" height=\"6 \" src=\"ico_up.gif \" style=\"margin-right:4px; \" width=\"7 \"/><span>\n",
              "                             20\n",
              "                         </span>\n",
              " </td>\n",
              " <td class=\"num \"><span>6,590</span></td>\n",
              " <td class=\"num \"><span>6,830</span></td>\n",
              " <td class=\"num \"><span>6,580</span></td>\n",
              " <td class=\"num \"><span>398,421</span></td>\n",
              " </tr>, <tr>\n",
              " <td align=\"center\"><span class=\"date\">2019.10.22</span></td>\n",
              " <td class=\"num\"><span>6,630</span></td>\n",
              " <td class=\"num\">\n",
              " <img alt=\"하락\" height=\"6\" src=\"ico_down.gif\" style=\"margin-right:4px;\" width=\"7\"/><span class=\"tah p11 nv01\">\n",
              "                             190\n",
              "                         </span>\n",
              " </td>\n",
              " <td class=\"num\"><span>6,830</span></td>\n",
              " <td class=\"num\"><span>6,930</span></td>\n",
              " <td class=\"num\"><span>6,530</span></td>\n",
              " <td class=\"num\"><span>919,571</span></td>\n",
              " </tr>, <tr>\n",
              " <td align=\"center\"><span class=\"date\">2019.10.21</span></td>\n",
              " <td class=\"num\"><span>6,820</span></td>\n",
              " <td class=\"num\">\n",
              " <img alt=\"상승\" height=\"6\" src=\"ico_up.gif\" style=\"margin-right:4px;\" width=\"7\"/><span>\n",
              "                             390\n",
              "                         </span>\n",
              " </td>\n",
              " <td class=\"num\"><span>6,440</span></td>\n",
              " <td class=\"num\"><span>6,890</span></td>\n",
              " <td class=\"num\"><span>6,360</span></td>\n",
              " <td class=\"num\"><span>1,678,055</span></td>\n",
              " </tr>, <tr>\n",
              " <td align=\"center\"><span class=\"date\">2019.10.18</span></td>\n",
              " <td class=\"num\"><span>6,430</span></td>\n",
              " <td class=\"num\">\n",
              " <img alt=\"상승\" height=\"6\" src=\"ico_up.gif\" style=\"margin-right:4px;\" width=\"7\"/><span>\n",
              "                             480\n",
              "                         </span>\n",
              " </td>\n",
              " <td class=\"num\"><span>6,020</span></td>\n",
              " <td class=\"num\"><span>6,620</span></td>\n",
              " <td class=\"num\"><span>5,970</span></td>\n",
              " <td class=\"num\"><span>2,168,857</span></td>\n",
              " </tr>, <tr>\n",
              " <td align=\"center\"><span class=\"date\">2019.10.17</span></td>\n",
              " <td class=\"num\"><span>5,950</span></td>\n",
              " <td class=\"num\">\n",
              " <img alt=\"상승\" height=\"6\" src=\"ico_up.gif\" style=\"margin-right:4px;\" width=\"7\"/><span>\n",
              "                             20\n",
              "                         </span>\n",
              " </td>\n",
              " <td class=\"num\"><span>6,100</span></td>\n",
              " <td class=\"num\"><span>6,180</span></td>\n",
              " <td class=\"num\"><span>5,840</span></td>\n",
              " <td class=\"num\"><span>1,982,922</span></td>\n",
              " </tr>, <tr>\n",
              " <td align=\"center\"><span class=\"date\">2019.10.16</span></td>\n",
              " <td class=\"num\"><span>5,930</span></td>\n",
              " <td class=\"num\">\n",
              " <img alt=\"상승\" height=\"6\" src=\"ico_up.gif\" style=\"margin-right:4px;\" width=\"7\"/><span>\n",
              "                             290\n",
              "                         </span>\n",
              " </td>\n",
              " <td class=\"num\"><span>5,620</span></td>\n",
              " <td class=\"num\"><span>5,930</span></td>\n",
              " <td class=\"num\"><span>5,350</span></td>\n",
              " <td class=\"num\"><span>839,434</span></td>\n",
              " </tr>, <tr>\n",
              " <td align=\"center\"><span class=\"date\">2019.10.15</span></td>\n",
              " <td class=\"num\"><span>5,640</span></td>\n",
              " <td class=\"num\">\n",
              " <img alt=\"상승\" height=\"6\" src=\"ico_up.gif\" style=\"margin-right:4px;\" width=\"7\"/><span>\n",
              "                             260\n",
              "                         </span>\n",
              " </td>\n",
              " <td class=\"num\"><span>5,370</span></td>\n",
              " <td class=\"num\"><span>5,660</span></td>\n",
              " <td class=\"num\"><span>5,300</span></td>\n",
              " <td class=\"num\"><span>702,104</span></td>\n",
              " </tr>, <tr>\n",
              " <td align=\"center\"><span class=\"date\">2019.10.14</span></td>\n",
              " <td class=\"num\"><span>5,380</span></td>\n",
              " <td class=\"num\">\n",
              " <img alt=\"상승\" height=\"6\" src=\"ico_up.gif\" style=\"margin-right:4px;\" width=\"7\"/><span>\n",
              "                             340\n",
              "                         </span>\n",
              " </td>\n",
              " <td class=\"num\"><span>5,060</span></td>\n",
              " <td class=\"num\"><span>5,420</span></td>\n",
              " <td class=\"num\"><span>5,060</span></td>\n",
              " <td class=\"num\"><span>764,800</span></td>\n",
              " </tr>, <tr>\n",
              " <td align=\"center\"><span class=\"date\">2019.10.11</span></td>\n",
              " <td class=\"num\"><span>5,040</span></td>\n",
              " <td class=\"num\">\n",
              " <img alt=\"하락\" height=\"6\" src=\"ico_down.gif\" style=\"margin-right:4px;\" width=\"7\"/><span class=\"tah p11 nv01\">\n",
              "                             60\n",
              "                         </span>\n",
              " </td>\n",
              " <td class=\"num\"><span>5,100</span></td>\n",
              " <td class=\"num\"><span>5,170</span></td>\n",
              " <td class=\"num\"><span>5,020</span></td>\n",
              " <td class=\"num\"><span>134,558</span></td>\n",
              " </tr>, <tr>\n",
              " <td align=\"center\"><span class=\"date\">2019.10.10</span></td>\n",
              " <td class=\"num\"><span>5,100</span></td>\n",
              " <td class=\"num\">\n",
              " <img alt=\"상승\" height=\"6\" src=\"ico_up.gif\" style=\"margin-right:4px;\" width=\"7\"/><span>\n",
              "                             50\n",
              "                         </span>\n",
              " </td>\n",
              " <td class=\"num\"><span>5,000</span></td>\n",
              " <td class=\"num\"><span>5,120</span></td>\n",
              " <td class=\"num\"><span>4,970</span></td>\n",
              " <td class=\"num\"><span>288,563</span></td>\n",
              " </tr>, <tr>\n",
              " <td align=\"center\"><span class=\"date\">2019.10.08</span></td>\n",
              " <td class=\"num\"><span>5,050</span></td>\n",
              " <td class=\"num\">\n",
              " <img alt=\"상승\" height=\"6\" src=\"ico_up.gif\" style=\"margin-right:4px;\" width=\"7\"/><span>\n",
              "                             110\n",
              "                         </span>\n",
              " </td>\n",
              " <td class=\"num\"><span>4,985</span></td>\n",
              " <td class=\"num\"><span>5,050</span></td>\n",
              " <td class=\"num\"><span>4,910</span></td>\n",
              " <td class=\"num\"><span>223,839</span></td>\n",
              " </tr>, <tr>\n",
              " <td align=\"center\"><span class=\"date\">2019.10.07</span></td>\n",
              " <td class=\"num\"><span>4,940</span></td>\n",
              " <td class=\"num\">\n",
              " <img alt=\"하락\" height=\"6\" src=\"ico_down.gif\" style=\"margin-right:4px;\" width=\"7\"/><span class=\"tah p11 nv01\">\n",
              "                             70\n",
              "                         </span>\n",
              " </td>\n",
              " <td class=\"num\"><span>4,990</span></td>\n",
              " <td class=\"num\"><span>5,110</span></td>\n",
              " <td class=\"num\"><span>4,905</span></td>\n",
              " <td class=\"num\"><span>199,580</span></td>\n",
              " </tr>, <tr>\n",
              " <td align=\"center\"><span class=\"date\">2019.10.04</span></td>\n",
              " <td class=\"num\"><span>5,010</span></td>\n",
              " <td class=\"num\">\n",
              " <img alt=\"상승\" height=\"6\" src=\"ico_up.gif\" style=\"margin-right:4px;\" width=\"7\"/><span>\n",
              "                             90\n",
              "                         </span>\n",
              " </td>\n",
              " <td class=\"num\"><span>4,900</span></td>\n",
              " <td class=\"num\"><span>5,050</span></td>\n",
              " <td class=\"num\"><span>4,900</span></td>\n",
              " <td class=\"num\"><span>188,467</span></td>\n",
              " </tr>, <tr>\n",
              " <td align=\"center\"><span class=\"date\">2019.10.02</span></td>\n",
              " <td class=\"num\"><span>4,920</span></td>\n",
              " <td class=\"num\">\n",
              " <img alt=\"하락\" height=\"6\" src=\"ico_down.gif\" style=\"margin-right:4px;\" width=\"7\"/><span class=\"tah p11 nv01\">\n",
              "                             90\n",
              "                         </span>\n",
              " </td>\n",
              " <td class=\"num\"><span>4,930</span></td>\n",
              " <td class=\"num\"><span>5,000</span></td>\n",
              " <td class=\"num\"><span>4,900</span></td>\n",
              " <td class=\"num\"><span>160,510</span></td>\n",
              " </tr>, <tr>\n",
              " <td align=\"center\"><span class=\"date\">2019.10.01</span></td>\n",
              " <td class=\"num\"><span>5,010</span></td>\n",
              " <td class=\"num\">\n",
              " <img alt=\"상승\" height=\"6\" src=\"ico_up.gif\" style=\"margin-right:4px;\" width=\"7\"/><span>\n",
              "                             10\n",
              "                         </span>\n",
              " </td>\n",
              " <td class=\"num\"><span>4,950</span></td>\n",
              " <td class=\"num\"><span>5,050</span></td>\n",
              " <td class=\"num\"><span>4,950</span></td>\n",
              " <td class=\"num\"><span>246,145</span></td>\n",
              " </tr>, <tr>\n",
              " <td align=\"center\"><span class=\"date\">2019.09.30</span></td>\n",
              " <td class=\"num\"><span>5,000</span></td>\n",
              " <td class=\"num\">\n",
              " <img alt=\"하락\" height=\"6\" src=\"ico_down.gif\" style=\"margin-right:4px;\" width=\"7\"/><span class=\"tah p11 nv01\">\n",
              "                             10\n",
              "                         </span>\n",
              " </td>\n",
              " <td class=\"num\"><span>5,180</span></td>\n",
              " <td class=\"num\"><span>5,300</span></td>\n",
              " <td class=\"num\"><span>4,990</span></td>\n",
              " <td class=\"num\"><span>705,046</span></td>\n",
              " </tr>, <tr>\n",
              " <td align=\"center\"><span class=\"date\">2019.09.27</span></td>\n",
              " <td class=\"num\"><span>5,010</span></td>\n",
              " <td class=\"num\">\n",
              " <img alt=\"하락\" height=\"6\" src=\"ico_down.gif\" style=\"margin-right:4px;\" width=\"7\"/><span class=\"tah p11 nv01\">\n",
              "                             50\n",
              "                         </span>\n",
              " </td>\n",
              " <td class=\"num\"><span>5,020</span></td>\n",
              " <td class=\"num\"><span>5,080</span></td>\n",
              " <td class=\"num\"><span>4,865</span></td>\n",
              " <td class=\"num\"><span>408,859</span></td>\n",
              " </tr>, <tr>\n",
              " <td align=\"center\"><span class=\"date\">2019.09.26</span></td>\n",
              " <td class=\"num\"><span>5,060</span></td>\n",
              " <td class=\"num\">\n",
              " <span>0</span>\n",
              " </td>\n",
              " <td class=\"num\"><span>5,130</span></td>\n",
              " <td class=\"num\"><span>5,200</span></td>\n",
              " <td class=\"num\"><span>4,965</span></td>\n",
              " <td class=\"num\"><span>404,633</span></td>\n",
              " </tr>, <tr>\n",
              " <td align=\"center\"><span class=\"date\">2019.09.25</span></td>\n",
              " <td class=\"num\"><span>5,060</span></td>\n",
              " <td class=\"num\">\n",
              " <img alt=\"하락\" height=\"6\" src=\"ico_down.gif\" style=\"margin-right:4px;\" width=\"7\"/><span class=\"tah p11 nv01\">\n",
              "                             270\n",
              "                         </span>\n",
              " </td>\n",
              " <td class=\"num\"><span>5,280</span></td>\n",
              " <td class=\"num\"><span>5,320</span></td>\n",
              " <td class=\"num\"><span>5,040</span></td>\n",
              " <td class=\"num\"><span>441,923</span></td>\n",
              " </tr>, <tr>\n",
              " <td align=\"center\"><span class=\"date\">2019.09.24</span></td>\n",
              " <td class=\"num\"><span>5,330</span></td>\n",
              " <td class=\"num\">\n",
              " <img alt=\"상승\" height=\"6\" src=\"ico_up.gif\" style=\"margin-right:4px;\" width=\"7\"/><span>\n",
              "                             10\n",
              "                         </span>\n",
              " </td>\n",
              " <td class=\"num\"><span>5,300</span></td>\n",
              " <td class=\"num\"><span>5,370</span></td>\n",
              " <td class=\"num\"><span>5,280</span></td>\n",
              " <td class=\"num\"><span>211,019</span></td>\n",
              " </tr>]"
            ]
          },
          "metadata": {
            "tags": []
          },
          "execution_count": 8
        }
      ]
    },
    {
      "cell_type": "code",
      "metadata": {
        "id": "mIk-zWWgotNR"
      },
      "source": [
        "twoStep = oneStep.select('tbody > tr')[1:]"
      ],
      "execution_count": 9,
      "outputs": []
    },
    {
      "cell_type": "code",
      "metadata": {
        "colab": {
          "base_uri": "https://localhost:8080/",
          "height": 34
        },
        "id": "bJ4q7wtjpAVF",
        "outputId": "95500c2c-2bf3-48ca-9420-b30e723605c0"
      },
      "source": [
        "twoStep[0].select('td')[1].text"
      ],
      "execution_count": 10,
      "outputs": [
        {
          "output_type": "execute_result",
          "data": {
            "application/vnd.google.colaboratory.intrinsic+json": {
              "type": "string"
            },
            "text/plain": [
              "'6,650'"
            ]
          },
          "metadata": {
            "tags": []
          },
          "execution_count": 10
        }
      ]
    },
    {
      "cell_type": "code",
      "metadata": {
        "colab": {
          "base_uri": "https://localhost:8080/",
          "height": 34
        },
        "id": "oyyGL6whpUhw",
        "outputId": "fa943106-3821-44d9-913e-35b19d764c2c"
      },
      "source": [
        "twoStep[0].select('td')[1].text.replace(',', '')"
      ],
      "execution_count": 11,
      "outputs": [
        {
          "output_type": "execute_result",
          "data": {
            "application/vnd.google.colaboratory.intrinsic+json": {
              "type": "string"
            },
            "text/plain": [
              "'6650'"
            ]
          },
          "metadata": {
            "tags": []
          },
          "execution_count": 11
        }
      ]
    },
    {
      "cell_type": "code",
      "metadata": {
        "id": "bcttvjOepXmM"
      },
      "source": [
        "날짜 = []\n",
        "종가 = []\n",
        "전일비 = []\n",
        "거래량 = []\n",
        "\n",
        "for i in twoStep:\n",
        "    날짜.append(i.select('td')[0].text)\n",
        "    종가.append(int(i.select('td')[1].text.replace(',', '')))\n",
        "    전일비.append(int(i.select('td')[2].text.replace(',', '')))\n",
        "    거래량.append(int(i.select('td')[6].text.replace(',', '')))"
      ],
      "execution_count": 12,
      "outputs": []
    },
    {
      "cell_type": "code",
      "metadata": {
        "colab": {
          "base_uri": "https://localhost:8080/"
        },
        "id": "rqKu7mhMpndd",
        "outputId": "c154f1f0-eebc-4775-9e8a-c25eb0dcb396"
      },
      "source": [
        "날짜"
      ],
      "execution_count": 13,
      "outputs": [
        {
          "output_type": "execute_result",
          "data": {
            "text/plain": [
              "['2019.10.23',\n",
              " '2019.10.22',\n",
              " '2019.10.21',\n",
              " '2019.10.18',\n",
              " '2019.10.17',\n",
              " '2019.10.16',\n",
              " '2019.10.15',\n",
              " '2019.10.14',\n",
              " '2019.10.11',\n",
              " '2019.10.10',\n",
              " '2019.10.08',\n",
              " '2019.10.07',\n",
              " '2019.10.04',\n",
              " '2019.10.02',\n",
              " '2019.10.01',\n",
              " '2019.09.30',\n",
              " '2019.09.27',\n",
              " '2019.09.26',\n",
              " '2019.09.25',\n",
              " '2019.09.24']"
            ]
          },
          "metadata": {
            "tags": []
          },
          "execution_count": 13
        }
      ]
    },
    {
      "cell_type": "code",
      "metadata": {
        "colab": {
          "base_uri": "https://localhost:8080/"
        },
        "id": "YQN3c01Gpp8g",
        "outputId": "651c4fab-93e8-470d-c4a4-1fe36f891e64"
      },
      "source": [
        "종가"
      ],
      "execution_count": 14,
      "outputs": [
        {
          "output_type": "execute_result",
          "data": {
            "text/plain": [
              "[6650,\n",
              " 6630,\n",
              " 6820,\n",
              " 6430,\n",
              " 5950,\n",
              " 5930,\n",
              " 5640,\n",
              " 5380,\n",
              " 5040,\n",
              " 5100,\n",
              " 5050,\n",
              " 4940,\n",
              " 5010,\n",
              " 4920,\n",
              " 5010,\n",
              " 5000,\n",
              " 5010,\n",
              " 5060,\n",
              " 5060,\n",
              " 5330]"
            ]
          },
          "metadata": {
            "tags": []
          },
          "execution_count": 14
        }
      ]
    },
    {
      "cell_type": "code",
      "metadata": {
        "colab": {
          "base_uri": "https://localhost:8080/"
        },
        "id": "egy21tDYps2K",
        "outputId": "63c733ce-f552-4554-b9d6-4ea7c35806d9"
      },
      "source": [
        "전일비"
      ],
      "execution_count": 15,
      "outputs": [
        {
          "output_type": "execute_result",
          "data": {
            "text/plain": [
              "[20,\n",
              " 190,\n",
              " 390,\n",
              " 480,\n",
              " 20,\n",
              " 290,\n",
              " 260,\n",
              " 340,\n",
              " 60,\n",
              " 50,\n",
              " 110,\n",
              " 70,\n",
              " 90,\n",
              " 90,\n",
              " 10,\n",
              " 10,\n",
              " 50,\n",
              " 0,\n",
              " 270,\n",
              " 10]"
            ]
          },
          "metadata": {
            "tags": []
          },
          "execution_count": 15
        }
      ]
    },
    {
      "cell_type": "code",
      "metadata": {
        "colab": {
          "base_uri": "https://localhost:8080/"
        },
        "id": "1jgMb56Ppuac",
        "outputId": "4cde0e75-b543-4dc2-a132-7580d5185ae0"
      },
      "source": [
        "거래량"
      ],
      "execution_count": 16,
      "outputs": [
        {
          "output_type": "execute_result",
          "data": {
            "text/plain": [
              "[398421,\n",
              " 919571,\n",
              " 1678055,\n",
              " 2168857,\n",
              " 1982922,\n",
              " 839434,\n",
              " 702104,\n",
              " 764800,\n",
              " 134558,\n",
              " 288563,\n",
              " 223839,\n",
              " 199580,\n",
              " 188467,\n",
              " 160510,\n",
              " 246145,\n",
              " 705046,\n",
              " 408859,\n",
              " 404633,\n",
              " 441923,\n",
              " 211019]"
            ]
          },
          "metadata": {
            "tags": []
          },
          "execution_count": 16
        }
      ]
    },
    {
      "cell_type": "code",
      "metadata": {
        "colab": {
          "base_uri": "https://localhost:8080/",
          "height": 303
        },
        "id": "F2oJkqbxpxQB",
        "outputId": "7f57139a-6304-4825-c9b7-c06bb49b523f"
      },
      "source": [
        "%matplotlib inline\n",
        "import matplotlib.pyplot as plt\n",
        "\n",
        "plt.plot(날짜, 종가)\n",
        "plt.xticks(rotation = -45 )\n",
        "plt.show()"
      ],
      "execution_count": 17,
      "outputs": [
        {
          "output_type": "display_data",
          "data": {
            "image/png": "[encoded data removed]",
            "text/plain": [
              "<Figure size 432x288 with 1 Axes>"
            ]
          },
          "metadata": {
            "tags": [],
            "needs_background": "light"
          }
        }
      ]
    },
    {
      "cell_type": "code",
      "metadata": {
        "colab": {
          "base_uri": "https://localhost:8080/"
        },
        "id": "eo2yu4UAqB6D",
        "outputId": "27d80efd-e4d6-4405-e6a9-62f15dded4ae"
      },
      "source": [
        "l = []\n",
        "\n",
        "for i in range(len(날짜)):\n",
        "    l.append({\n",
        "        '날짜':날짜[i],\n",
        "        '종가':종가[i],\n",
        "        '전일비':전일비[i],\n",
        "        '거래량':거래량[i],\n",
        "        })\n",
        "l"
      ],
      "execution_count": 18,
      "outputs": [
        {
          "output_type": "execute_result",
          "data": {
            "text/plain": [
              "[{'거래량': 398421, '날짜': '2019.10.23', '전일비': 20, '종가': 6650},\n",
              " {'거래량': 919571, '날짜': '2019.10.22', '전일비': 190, '종가': 6630},\n",
              " {'거래량': 1678055, '날짜': '2019.10.21', '전일비': 390, '종가': 6820},\n",
              " {'거래량': 2168857, '날짜': '2019.10.18', '전일비': 480, '종가': 6430},\n",
              " {'거래량': 1982922, '날짜': '2019.10.17', '전일비': 20, '종가': 5950},\n",
              " {'거래량': 839434, '날짜': '2019.10.16', '전일비': 290, '종가': 5930},\n",
              " {'거래량': 702104, '날짜': '2019.10.15', '전일비': 260, '종가': 5640},\n",
              " {'거래량': 764800, '날짜': '2019.10.14', '전일비': 340, '종가': 5380},\n",
              " {'거래량': 134558, '날짜': '2019.10.11', '전일비': 60, '종가': 5040},\n",
              " {'거래량': 288563, '날짜': '2019.10.10', '전일비': 50, '종가': 5100},\n",
              " {'거래량': 223839, '날짜': '2019.10.08', '전일비': 110, '종가': 5050},\n",
              " {'거래량': 199580, '날짜': '2019.10.07', '전일비': 70, '종가': 4940},\n",
              " {'거래량': 188467, '날짜': '2019.10.04', '전일비': 90, '종가': 5010},\n",
              " {'거래량': 160510, '날짜': '2019.10.02', '전일비': 90, '종가': 4920},\n",
              " {'거래량': 246145, '날짜': '2019.10.01', '전일비': 10, '종가': 5010},\n",
              " {'거래량': 705046, '날짜': '2019.09.30', '전일비': 10, '종가': 5000},\n",
              " {'거래량': 408859, '날짜': '2019.09.27', '전일비': 50, '종가': 5010},\n",
              " {'거래량': 404633, '날짜': '2019.09.26', '전일비': 0, '종가': 5060},\n",
              " {'거래량': 441923, '날짜': '2019.09.25', '전일비': 270, '종가': 5060},\n",
              " {'거래량': 211019, '날짜': '2019.09.24', '전일비': 10, '종가': 5330}]"
            ]
          },
          "metadata": {
            "tags": []
          },
          "execution_count": 18
        }
      ]
    },
    {
      "cell_type": "code",
      "metadata": {
        "colab": {
          "base_uri": "https://localhost:8080/"
        },
        "id": "iKM6VIexqSxY",
        "outputId": "fc12dd87-2c2f-45f2-9e15-bc90b4a8e1e4"
      },
      "source": [
        "import requests\n",
        "from bs4 import BeautifulSoup\n",
        "\n",
        "response = requests.get(\"http://paullab.synology.me/stock.html\")\n",
        "\n",
        "response.encoding = 'utf-8'\n",
        "html = response.text\n",
        "\n",
        "soup = BeautifulSoup(html, 'html.parser')\n",
        "\n",
        "oneStep = soup.select('.main')[2]\n",
        "twoStep = oneStep.select('tbody > tr')[1:]\n",
        "\n",
        "날짜 = []\n",
        "종가 = []\n",
        "전일비 = []\n",
        "거래량 = []\n",
        "\n",
        "for i in twoStep:\n",
        "    날짜.append(i.select('td')[0].text)\n",
        "    종가.append(int(i.select('td')[1].text.replace(',', '')))\n",
        "    전일비.append(int(i.select('td')[2].text.replace(',', '')))\n",
        "    거래량.append(int(i.select('td')[6].text.replace(',', '')))\n",
        "\n",
        "l = []\n",
        "\n",
        "for i in range(len(날짜)):\n",
        "    l.append({\n",
        "        '날짜':날짜[i],\n",
        "        '종가':종가[i],\n",
        "        '전일비':전일비[i],\n",
        "        '거래량':거래량[i],\n",
        "        })\n",
        "l"
      ],
      "execution_count": 19,
      "outputs": [
        {
          "output_type": "execute_result",
          "data": {
            "text/plain": [
              "[{'거래량': 398421, '날짜': '2019.10.23', '전일비': 20, '종가': 6650},\n",
              " {'거래량': 919571, '날짜': '2019.10.22', '전일비': 190, '종가': 6630},\n",
              " {'거래량': 1678055, '날짜': '2019.10.21', '전일비': 390, '종가': 6820},\n",
              " {'거래량': 2168857, '날짜': '2019.10.18', '전일비': 480, '종가': 6430},\n",
              " {'거래량': 1982922, '날짜': '2019.10.17', '전일비': 20, '종가': 5950},\n",
              " {'거래량': 839434, '날짜': '2019.10.16', '전일비': 290, '종가': 5930},\n",
              " {'거래량': 702104, '날짜': '2019.10.15', '전일비': 260, '종가': 5640},\n",
              " {'거래량': 764800, '날짜': '2019.10.14', '전일비': 340, '종가': 5380},\n",
              " {'거래량': 134558, '날짜': '2019.10.11', '전일비': 60, '종가': 5040},\n",
              " {'거래량': 288563, '날짜': '2019.10.10', '전일비': 50, '종가': 5100},\n",
              " {'거래량': 223839, '날짜': '2019.10.08', '전일비': 110, '종가': 5050},\n",
              " {'거래량': 199580, '날짜': '2019.10.07', '전일비': 70, '종가': 4940},\n",
              " {'거래량': 188467, '날짜': '2019.10.04', '전일비': 90, '종가': 5010},\n",
              " {'거래량': 160510, '날짜': '2019.10.02', '전일비': 90, '종가': 4920},\n",
              " {'거래량': 246145, '날짜': '2019.10.01', '전일비': 10, '종가': 5010},\n",
              " {'거래량': 705046, '날짜': '2019.09.30', '전일비': 10, '종가': 5000},\n",
              " {'거래량': 408859, '날짜': '2019.09.27', '전일비': 50, '종가': 5010},\n",
              " {'거래량': 404633, '날짜': '2019.09.26', '전일비': 0, '종가': 5060},\n",
              " {'거래량': 441923, '날짜': '2019.09.25', '전일비': 270, '종가': 5060},\n",
              " {'거래량': 211019, '날짜': '2019.09.24', '전일비': 10, '종가': 5330}]"
            ]
          },
          "metadata": {
            "tags": []
          },
          "execution_count": 19
        }
      ]
    }
  ]
}
